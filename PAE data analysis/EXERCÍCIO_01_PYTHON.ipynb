{
 "cells": [
  {
   "attachments": {},
   "cell_type": "markdown",
   "metadata": {},
   "source": [
    "Parte I\n",
    "\n",
    "1. Escreva um programa que imprima 'Hello World' na tela. *\n",
    "\n",
    "2. Escreva um programa que pergunte ao usuário seu nome e o cumprimente com seu nome. *\n",
    "\n",
    "3. Modifique o programa anterior para que apenas os usuários Alice e Bob sejam saudados com seus nomes.\n",
    "\n",
    "4. Escreva um programa que peça ao usuário um número n e imprima a soma dos números de 1 a n.\n",
    "\n",
    "5. Modifique o programa anterior para que ele use uma função chamada sum_numbers.\n",
    "\n",
    "6. Escreva um programa que peça o raio de um círculo e calcule sua área (use o módulo math para obter PI: math.pi). *\n"
   ]
  },
  {
   "cell_type": "code",
   "execution_count": 1,
   "metadata": {},
   "outputs": [
    {
     "name": "stdout",
     "output_type": "stream",
     "text": [
      "Hello World\n"
     ]
    }
   ],
   "source": [
    "print (\"Hello World\")"
   ]
  },
  {
   "cell_type": "code",
   "execution_count": 2,
   "metadata": {},
   "outputs": [
    {
     "name": "stdout",
     "output_type": "stream",
     "text": [
      "Hello Amanda!\n"
     ]
    }
   ],
   "source": [
    "name = input ('what is your name?')\n",
    "print('Hello ' + name + '!')"
   ]
  },
  {
   "cell_type": "code",
   "execution_count": 5,
   "metadata": {},
   "outputs": [
    {
     "name": "stdout",
     "output_type": "stream",
     "text": [
      "Olá, Alice!\n"
     ]
    }
   ],
   "source": [
    "name = input(\"Digite seu nome: \")\n",
    "if name == \"Alice\" or name == \"Bob\":\n",
    "    print(f\"Olá, {name}!\")\n",
    "else:\n",
    "    print(\"Olá!\")"
   ]
  },
  {
   "cell_type": "code",
   "execution_count": 6,
   "metadata": {},
   "outputs": [
    {
     "name": "stdout",
     "output_type": "stream",
     "text": [
      "Área do círculo:  50.24\n"
     ]
    }
   ],
   "source": [
    "r = float(input('Raio do círculo: '))\n",
    "area = 3.14 * (r ** 2)\n",
    "print ('Área do círculo: ', area)"
   ]
  },
  {
   "attachments": {},
   "cell_type": "markdown",
   "metadata": {},
   "source": [
    "Parte II\n",
    "\n",
    "1. Escreva uma função que retorne o maior elemento de uma lista. *\n",
    "\n",
    "2. Escreva uma função que inverta uma lista. *\n",
    "\n",
    "3. Escreva uma função que verifica se um elemento ocorre em uma lista.\n",
    "\n",
    "4. Escreva uma função que calcule a soma de todos os elementos de uma lista. *"
   ]
  },
  {
   "cell_type": "code",
   "execution_count": 7,
   "metadata": {},
   "outputs": [
    {
     "name": "stdout",
     "output_type": "stream",
     "text": [
      "36\n"
     ]
    }
   ],
   "source": [
    "numbers = ['1', '7', '14', '36']\n",
    "max_value = max(int(n) for n in numbers)\n",
    "print(max_value)"
   ]
  },
  {
   "cell_type": "code",
   "execution_count": 8,
   "metadata": {},
   "outputs": [
    {
     "name": "stdout",
     "output_type": "stream",
     "text": [
      "['3', '2', '1']\n"
     ]
    }
   ],
   "source": [
    "list = ['1', '2', '3']\n",
    "list.reverse()\n",
    "print(list)"
   ]
  },
  {
   "cell_type": "code",
   "execution_count": 13,
   "metadata": {},
   "outputs": [
    {
     "name": "stdout",
     "output_type": "stream",
     "text": [
      "O nome Maria está no índice 1\n"
     ]
    }
   ],
   "source": [
    "name = [\"João\", \"Maria\", \"Pedro\", \"Ana\"]\n",
    "search = \"Maria\"\n",
    "index = names.index(search)\n",
    "print(\"O nome\", search, \"está no índice\", index)\n",
    "    \n",
    "    "
   ]
  },
  {
   "cell_type": "code",
   "execution_count": 14,
   "metadata": {},
   "outputs": [
    {
     "name": "stdout",
     "output_type": "stream",
     "text": [
      "43\n"
     ]
    }
   ],
   "source": [
    "list = [9, 5, 10, 7, 4, 8]\n",
    "sum_lists = sum(list)\n",
    "print(sum_lists)"
   ]
  }
 ],
 "metadata": {
  "kernelspec": {
   "display_name": "Python 3",
   "language": "python",
   "name": "python3"
  },
  "language_info": {
   "codemirror_mode": {
    "name": "ipython",
    "version": 3
   },
   "file_extension": ".py",
   "mimetype": "text/x-python",
   "name": "python",
   "nbconvert_exporter": "python",
   "pygments_lexer": "ipython3",
   "version": "3.11.9"
  },
  "orig_nbformat": 4,
  "vscode": {
   "interpreter": {
    "hash": "31f2aee4e71d21fbe5cf8b01ff0e069b9275f58929596ceb00d14d90e3e16cd6"
   }
  }
 },
 "nbformat": 4,
 "nbformat_minor": 2
}
